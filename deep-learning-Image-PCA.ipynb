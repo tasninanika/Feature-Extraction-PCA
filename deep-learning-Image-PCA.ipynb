{
 "cells": [
  {
   "cell_type": "code",
   "execution_count": 2,
   "id": "7be16cac-0fa4-4dc4-9bb6-18caaa397fd6",
   "metadata": {},
   "outputs": [
    {
     "ename": "ModuleNotFoundError",
     "evalue": "No module named 'cv2'",
     "output_type": "error",
     "traceback": [
      "\u001b[1;31m---------------------------------------------------------------------------\u001b[0m",
      "\u001b[1;31mModuleNotFoundError\u001b[0m                       Traceback (most recent call last)",
      "Cell \u001b[1;32mIn[2], line 2\u001b[0m\n\u001b[0;32m      1\u001b[0m \u001b[38;5;28;01mimport\u001b[39;00m \u001b[38;5;21;01mnumpy\u001b[39;00m \u001b[38;5;28;01mas\u001b[39;00m \u001b[38;5;21;01mnp\u001b[39;00m\n\u001b[1;32m----> 2\u001b[0m \u001b[38;5;28;01mimport\u001b[39;00m \u001b[38;5;21;01mcv2\u001b[39;00m\n\u001b[0;32m      3\u001b[0m \u001b[38;5;28;01mfrom\u001b[39;00m \u001b[38;5;21;01msklearn\u001b[39;00m\u001b[38;5;21;01m.\u001b[39;00m\u001b[38;5;21;01mdecomposition\u001b[39;00m \u001b[38;5;28;01mimport\u001b[39;00m PCA\n\u001b[0;32m      4\u001b[0m \u001b[38;5;28;01mimport\u001b[39;00m \u001b[38;5;21;01mmatplotlib\u001b[39;00m\u001b[38;5;21;01m.\u001b[39;00m\u001b[38;5;21;01mpyplot\u001b[39;00m \u001b[38;5;28;01mas\u001b[39;00m \u001b[38;5;21;01mplt\u001b[39;00m\n",
      "\u001b[1;31mModuleNotFoundError\u001b[0m: No module named 'cv2'"
     ]
    }
   ],
   "source": [
    "import numpy as np\n",
    "import cv2\n",
    "from sklearn.decomposition import PCA\n",
    "import matplotlib.pyplot as plt\n",
    "\n",
    "# Step 1: Load the color image\n",
    "image_path = r\"Downloads\\sambar+chicken+2.jpg\"\n",
    "image = cv2.imread(image_path)  # Load image (BGR format)\n",
    "image = cv2.cvtColor(image, cv2.COLOR_BGR2RGB)  # Convert to RGB\n",
    "original_shape = image.shape  # Store original size\n",
    "\n",
    "# Step 2: Function to apply PCA with automatic component selection\n",
    "def apply_pca(image_channel, variance_threshold=0.95):\n",
    "    \"\"\"Applies PCA to a single color channel and selects components automatically.\"\"\"\n",
    "    pca = PCA().fit(image_channel)  # Fit PCA without specifying components\n",
    "    total_variance = np.cumsum(pca.explained_variance_ratio_)  # Cumulative sum of explained variance\n",
    "    \n",
    "    # Select number of components to preserve 95% variance\n",
    "    num_components = np.argmax(total_variance >= variance_threshold) + 1\n",
    "    print(f\"Selected {num_components} components for a channel.\")\n",
    "    \n",
    "    pca = PCA(num_components)\n",
    "    transformed = pca.fit_transform(image_channel)\n",
    "    reconstructed = pca.inverse_transform(transformed)\n",
    "    return np.clip(reconstructed, 0, 255).astype(np.uint8), num_components\n",
    "\n",
    "# Step 3: Apply PCA to each color channel separately\n",
    "red_pca, red_components = apply_pca(image[:, :, 0])  \n",
    "green_pca, green_components = apply_pca(image[:, :, 1]) \n",
    "blue_pca, blue_components = apply_pca(image[:, :, 2])  \n",
    "\n",
    "# Step 4: Merge channels back into a color image\n",
    "reconstructed_image = np.stack((red_pca, green_pca, blue_pca), axis=-1)\n",
    "\n",
    "# Step 5: Compute and print sizes\n",
    "original_size = original_shape[0] * original_shape[1] * 3  # Original size in pixels (RGB)\n",
    "pca_size = (red_components + green_components + blue_components) * (original_shape[0] + original_shape[1])  # Approximate compressed size\n",
    "\n",
    "print(\"\\n📏 Image Size Comparison:\")\n",
    "print(f\"🔹 Original Image Size: {original_size} pixels\")\n",
    "print(f\"🔹 After PCA Compression: {pca_size} pixels\")\n",
    "compression_ratio = (pca_size / original_size) * 100\n",
    "print(f\"🔹 Compression Ratio: {compression_ratio:.2f}% of the original size\")\n",
    "\n",
    "# Step 6: Display the original and resized images\n",
    "plt.figure(figsize=(10, 5))\n",
    "plt.subplot(1, 2, 1)\n",
    "plt.title(\"Original Image\")\n",
    "plt.imshow(image)\n",
    "plt.axis(\"off\")\n",
    "\n",
    "plt.subplot(1, 2, 2)\n",
    "plt.title(\"Resized Image using PCA\")\n",
    "plt.imshow(reconstructed_image)\n",
    "plt.axis(\"off\")\n",
    "\n",
    "plt.show()\n",
    "\n",
    "# Step 7: Save the PCA-resized image\n",
    "cv2.imwrite(\"resized_pca.jpg\", cv2.cvtColor(reconstructed_image, cv2.COLOR_RGB2BGR))\n"
   ]
  },
  {
   "cell_type": "code",
   "execution_count": null,
   "id": "427033e0-7d36-4ab4-90d7-e4e0a9b0590a",
   "metadata": {},
   "outputs": [],
   "source": []
  }
 ],
 "metadata": {
  "kernelspec": {
   "display_name": "Python 3 (ipykernel)",
   "language": "python",
   "name": "python3"
  },
  "language_info": {
   "codemirror_mode": {
    "name": "ipython",
    "version": 3
   },
   "file_extension": ".py",
   "mimetype": "text/x-python",
   "name": "python",
   "nbconvert_exporter": "python",
   "pygments_lexer": "ipython3",
   "version": "3.12.7"
  }
 },
 "nbformat": 4,
 "nbformat_minor": 5
}
